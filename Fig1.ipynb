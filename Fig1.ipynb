{
 "cells": [
  {
   "cell_type": "markdown",
   "metadata": {},
   "source": [
    "# Figure 1: Model Reliance on Frequency Groups and ROI"
   ]
  },
  {
   "cell_type": "code",
   "execution_count": null,
   "metadata": {},
   "outputs": [],
   "source": [
    "%config InlineBackend.figure_format = 'retina'\n",
    "import numpy as np\n",
    "import pandas as pd\n",
    "import matplotlib as mpl \n",
    "import matplotlib.pyplot as plt\n",
    "import matplotlib.font_manager as font_manager\n",
    "import seaborn as sns\n",
    "import scipy.io as io\n",
    "import os\n",
    "from functions.helpers import *\n",
    "\n",
    "# Set plotting defaults\n",
    "plt.rcParams[\"font.family\"] = \"Arial\"\n",
    "font = {'size'   : 20}\n",
    "mpl.rc('font', **font)\n",
    "plt.style.use('default')\n",
    "sns.set_style(\"whitegrid\")"
   ]
  },
  {
   "cell_type": "code",
   "execution_count": null,
   "metadata": {},
   "outputs": [],
   "source": [
    "# Load data\n",
    "roi_mr = pd.read_csv('results/roi_mr.csv')\n",
    "freq_mr = pd.read_csv('results/freq_mr.csv')"
   ]
  },
  {
   "cell_type": "code",
   "execution_count": null,
   "metadata": {},
   "outputs": [],
   "source": [
    "# Reshape data wide to long\n",
    "roi_mr_m = pd.melt(roi_mr, id_vars=['id'], value_vars=['leftocci', 'rightocci', 'occipitocentral', \n",
    "                            'central', 'leftcentral', 'rightcentral', \n",
    "                            'frontocentral', 'leftfrontal', 'rightfrontal'],\n",
    "                             var_name='feature', value_name='mr')\n",
    "freq_mr_m = pd.melt(freq_mr, id_vars=['id'], value_vars=['delta','theta','alpha',\n",
    "                                      'beta','gamma'],\n",
    "                             var_name='feature', value_name='mr')\n",
    "\n",
    "# Rescale MR to percent\n",
    "roi_mr_m['mr'] *= 100 \n",
    "freq_mr_m['mr'] *= 100 "
   ]
  },
  {
   "cell_type": "code",
   "execution_count": null,
   "metadata": {},
   "outputs": [],
   "source": [
    "# Build plot\n",
    "fig, (ax1, ax2) = plt.subplots(1, 2, figsize=(8, 4))\n",
    "\n",
    "sns.boxplot(y=\"feature\", x=\"mr\", data=roi_mr_m,\n",
    "        color=\"#4a7ab7\", ax = ax1)\n",
    "\n",
    "ax1.grid(False)\n",
    "ax1.xaxis.grid(True)\n",
    "ax1.set_xlim(-0.01,0.02)\n",
    "ax1.set_xticks(np.arange(-0.01,0.02, 0.01))\n",
    "\n",
    "ax1.set_ylabel(\"\")\n",
    "ax1.set_xlabel(\"MR [%]\")\n",
    "ax1.set_title(\"ROI\") \n",
    "\n",
    "\n",
    "\n",
    "sns.set_style(\"whitegrid\")\n",
    "\n",
    "\n",
    "sns.boxplot(y=\"feature\", x=\"mr\", data=freq_mr_m,\n",
    "        color=\"#4a7ab7\", ax = ax2)\n",
    "ax2.grid(False)\n",
    "ax2.xaxis.grid(True)\n",
    "ax2.set_xlim(-0.02,0.08)\n",
    "ax2.set_xticks(np.arange(-0.02,0.08, 0.02))\n",
    "ax2.invert_yaxis()\n",
    "\n",
    "plt.ylabel(\"\")\n",
    "plt.title(\"Frequency bands\")\n",
    "plt.xlabel(\"MR [%]\")\n",
    "plt.tight_layout()\n",
    "plt.savefig('plots/Fig1.eps') "
   ]
  },
  {
   "cell_type": "code",
   "execution_count": null,
   "metadata": {},
   "outputs": [],
   "source": []
  }
 ],
 "metadata": {
  "kernelspec": {
   "display_name": "Python 3",
   "language": "python",
   "name": "python3"
  },
  "language_info": {
   "codemirror_mode": {
    "name": "ipython",
    "version": 3
   },
   "file_extension": ".py",
   "mimetype": "text/x-python",
   "name": "python",
   "nbconvert_exporter": "python",
   "pygments_lexer": "ipython3",
   "version": "3.6.8"
  },
  "toc": {
   "base_numbering": 1,
   "nav_menu": {},
   "number_sections": true,
   "sideBar": true,
   "skip_h1_title": false,
   "title_cell": "Table of Contents",
   "title_sidebar": "Contents",
   "toc_cell": false,
   "toc_position": {},
   "toc_section_display": true,
   "toc_window_display": false
  }
 },
 "nbformat": 4,
 "nbformat_minor": 2
}
