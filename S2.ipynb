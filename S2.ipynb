{
 "cells": [
  {
   "cell_type": "markdown",
   "metadata": {},
   "source": [
    "# S2 Fig. Classification accuracy for training and testing on individual feature groups."
   ]
  },
  {
   "cell_type": "code",
   "execution_count": null,
   "metadata": {},
   "outputs": [],
   "source": [
    "import numpy as np\n",
    "import pandas as pd\n",
    "import seaborn as sns\n",
    "import matplotlib as mpl # perhaps change this later\n",
    "import matplotlib.pyplot as plt\n",
    "import scipy.io as io\n",
    "import os\n",
    "import functions.model_reliance as mr\n",
    "from sklearn.model_selection import StratifiedKFold\n",
    "from sklearn.model_selection import cross_val_score\n",
    "from sklearn.metrics import accuracy_score\n",
    "from sklearn.ensemble import RandomForestClassifier \n",
    "from functions.helpers import *\n",
    "\n",
    "# Set plotting defaults\n",
    "plt.rcParams[\"font.family\"] = \"Arial\"\n",
    "font = {'size'   : 20}\n",
    "mpl.rc('font', **font)"
   ]
  },
  {
   "cell_type": "code",
   "execution_count": null,
   "metadata": {},
   "outputs": [],
   "source": [
    "# Load indices\n",
    "with open('feature_groups/allelecs_allfreq_roi.json') as f:\n",
    "    allelecs_allfreq_roi = json.load(f)\n",
    "with open('feature_groups/allelecs_allfreq_freq.json') as f:\n",
    "    allelecs_allfreq_freq = json.load(f)"
   ]
  },
  {
   "cell_type": "code",
   "execution_count": null,
   "metadata": {},
   "outputs": [],
   "source": [
    "# Training and testing on individual features \n",
    "clf = RandomForestClassifier(n_jobs=-1,\n",
    "                               oob_score=True,\n",
    "                               class_weight='balanced',  # for imb. datasets\n",
    "                               random_state=42,\n",
    "                               n_estimators=5000)\n",
    "cv = StratifiedKFold(n_splits = 10, shuffle = True, random_state = 42)\n",
    "\n",
    "\n",
    "ind_roi_results = []\n",
    "\n",
    "for subj in subjects:\n",
    "    print('Training and testing on: ' + subj)\n",
    "\n",
    "    # load data\n",
    "    datapath = inputdirectory + subj +'/'+ 'Xallelecs_allfreq.mat'\n",
    "    data = io.loadmat(datapath)\n",
    "    y = data['y'].flatten()\n",
    "    X = data['X']\n",
    "    \n",
    "\n",
    "    score = {}\n",
    "    for label, cols in allelecs_allfreq_roi.items():\n",
    "        print('running cv on feature '+ label)\n",
    "        res = np.mean(cross_val_score(clf, X[:,cols], y, cv = cv, n_jobs = -1))\n",
    "        score[label] = res\n",
    "        print(res)    \n",
    "        \n",
    "    ind_roi_results.append(pd.DataFrame.from_dict(score, 'index').transpose())\n"
   ]
  },
  {
   "cell_type": "code",
   "execution_count": null,
   "metadata": {},
   "outputs": [],
   "source": [
    "# reshape data for plotting\n",
    "ind_roi_results = pd.concat(ind_roi_results)\n",
    "ind_roi_mr = ind_roi_results.copy()\n",
    "ind_roi_mr['id'] = subjects\n",
    "ind_roi_mr.reset_index(drop = True, inplace = True)\n",
    "ind_roi_mr_m = pd.melt(ind_roi_mr, id_vars=['id'], value_vars=['leftocci','rightocci','leftcentral',\n",
    "                                      'rightcentral','leftfrontal','rightfrontal',\n",
    "                                      'frontocentral','central','occipitocentral'],\n",
    "                             var_name='feature', value_name='mr')"
   ]
  },
  {
   "cell_type": "code",
   "execution_count": null,
   "metadata": {},
   "outputs": [],
   "source": [
    "# training and testing on individual features \n",
    "\n",
    "clf = RandomForestClassifier(n_jobs=-1,\n",
    "                               oob_score=True,\n",
    "                               class_weight='balanced',  # for imb. datasets\n",
    "                               random_state=42,\n",
    "                               n_estimators=5000)\n",
    "cv = StratifiedKFold(n_splits = 10, shuffle = True, random_state = 42)\n",
    "\n",
    "\n",
    "ind_freq_results = []\n",
    "\n",
    "for subj in subjects:\n",
    "    print('Training and testing on: ' + subj)\n",
    "\n",
    "    # load data\n",
    "    datapath = inputdirectory + subj +'/'+ 'Xallelecs_allfreq.mat'\n",
    "    data = io.loadmat(datapath)\n",
    "    y = data['y'].flatten()\n",
    "    X = data['X']\n",
    "    \n",
    "\n",
    "    score = {}\n",
    "    for label, cols in allelecs_allfreq_freq.items():\n",
    "        print('running cv on feature '+ label)\n",
    "        res = np.mean(cross_val_score(clf, X[:,cols], y, cv = cv, n_jobs = -1))\n",
    "        score[label] = res\n",
    "        print(res)    \n",
    "        \n",
    "    ind_freq_results.append(pd.DataFrame.from_dict(score, 'index').transpose())"
   ]
  },
  {
   "cell_type": "code",
   "execution_count": null,
   "metadata": {},
   "outputs": [],
   "source": [
    "# reshape data for plotting\n",
    "ind_freq_results = pd.concat(ind_freq_results)\n",
    "ind_freq_mr = ind_freq_results.copy()\n",
    "ind_freq_mr['id'] = subjects\n",
    "ind_freq_mr.reset_index(drop = True, inplace = True)\n",
    "ind_freq_mr_m = pd.melt(ind_freq_mr, id_vars=['id'], \n",
    "                                value_vars=['delta','theta','alpha', 'beta', 'gamma'],\n",
    "                             var_name='feature', value_name='mr')"
   ]
  },
  {
   "cell_type": "code",
   "execution_count": null,
   "metadata": {},
   "outputs": [],
   "source": [
    "ind_freq_mr_m['mr'] = ind_freq_mr_m['mr']*100\n",
    "ind_roi_mr_m['mr'] = ind_roi_mr_m['mr']*100"
   ]
  },
  {
   "cell_type": "code",
   "execution_count": null,
   "metadata": {},
   "outputs": [],
   "source": [
    "%config InlineBackend.figure_format = 'retina'\n",
    "plt.style.use('default')\n",
    "sns.set_style(\"whitegrid\")\n",
    "\n",
    "\n",
    "plt.subplot(2, 2, 1)\n",
    "\n",
    "sns.boxplot(y=\"feature\", x=\"mr\", data=ind_roi_mr_m,\n",
    "        color=\"#4a7ab7\")\n",
    "\n",
    "ax = plt.gca()\n",
    "ax.grid(False)\n",
    "ax.yaxis.grid(True)\n",
    "ax.set_xlim(30,60)\n",
    "\n",
    "plt.ylabel(\"\")\n",
    "plt.xlabel(\"Accuracy [%]\")\n",
    "plt.title(\"ROI\") \n",
    "\n",
    "\n",
    "\n",
    "sns.set_style(\"whitegrid\")\n",
    "\n",
    "plt.subplot(2, 2, 2)\n",
    "\n",
    "\n",
    "\n",
    "sns.boxplot(y=\"feature\", x=\"mr\", data=ind_freq_mr_m,\n",
    "        color=\"#4a7ab7\")\n",
    "ax = plt.gca()\n",
    "ax.grid(False)\n",
    "ax.yaxis.grid(True)\n",
    "ax.set_xlim(30,60)\n",
    "ax.invert_yaxis()\n",
    "\n",
    "plt.ylabel(\"\")\n",
    "plt.title(\"Freuquency Band\") \n",
    "plt.xlabel(\"Accuracy [%]\")\n",
    "plt.tight_layout()\n",
    "plt.savefig('plots/S2_fig.eps') "
   ]
  }
 ],
 "metadata": {
  "kernelspec": {
   "display_name": "Python 3",
   "language": "python",
   "name": "python3"
  },
  "language_info": {
   "codemirror_mode": {
    "name": "ipython",
    "version": 3
   },
   "file_extension": ".py",
   "mimetype": "text/x-python",
   "name": "python",
   "nbconvert_exporter": "python",
   "pygments_lexer": "ipython3",
   "version": "3.6.9"
  },
  "toc": {
   "base_numbering": 1,
   "nav_menu": {},
   "number_sections": true,
   "sideBar": true,
   "skip_h1_title": false,
   "title_cell": "Table of Contents",
   "title_sidebar": "Contents",
   "toc_cell": false,
   "toc_position": {},
   "toc_section_display": true,
   "toc_window_display": false
  }
 },
 "nbformat": 4,
 "nbformat_minor": 2
}
