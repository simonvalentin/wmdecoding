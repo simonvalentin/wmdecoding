{
 "cells": [
  {
   "cell_type": "markdown",
   "metadata": {},
   "source": [
    "# Figure 2A: Model Reliance on Frequency Groups per Subject"
   ]
  },
  {
   "cell_type": "code",
   "execution_count": null,
   "metadata": {},
   "outputs": [],
   "source": [
    "%config InlineBackend.figure_format = 'retina'\n",
    "import numpy as np\n",
    "import pandas as pd\n",
    "import matplotlib as mpl \n",
    "import matplotlib.pyplot as plt\n",
    "import matplotlib.font_manager as font_manager\n",
    "import seaborn as sns\n",
    "import scipy.io as io\n",
    "import os\n",
    "from functions.helpers import *\n",
    "\n",
    "# Set plotting defaults\n",
    "plt.rcParams[\"font.family\"] = \"Arial\"\n",
    "font = {'size'   : 20}\n",
    "mpl.rc('font', **font)\n",
    "plt.style.use('default')\n",
    "sns.set_style(\"whitegrid\")"
   ]
  },
  {
   "cell_type": "code",
   "execution_count": null,
   "metadata": {},
   "outputs": [],
   "source": [
    "# Load data\n",
    "roi_mr = pd.read_csv('results/roi_mr.csv')\n",
    "freq_mr = pd.read_csv('results/freq_mr.csv')\n",
    "\n",
    "# Rescale MR to percent\n",
    "roi_mr = 100*roi_mr \n",
    "freq_mr = 100*freq_mr "
   ]
  },
  {
   "cell_type": "code",
   "execution_count": null,
   "metadata": {
    "scrolled": true
   },
   "outputs": [],
   "source": [
    "# Build plot\n",
    "fig, axes = plt.subplots(nrows=2, ncols=5, figsize=(12,6))\n",
    "for i, ax in enumerate(axes.flatten()): \n",
    "    dat = pd.DataFrame(freq_mr.iloc[i])\n",
    "    dat.transpose()\n",
    "    dat = pd.melt(dat.transpose(), value_vars=['delta','theta','alpha',\n",
    "                                      'beta','gamma'],\n",
    "                             var_name='feature', value_name='mr')\n",
    "\n",
    "    subj_nr = 'Subj. #' + str(i+1)\n",
    "\n",
    "    sns.barplot(y=\"feature\", x=\"mr\", data=dat,\n",
    "                       label=\"Total\", color=\"#4a7ab7\", ax=ax).set(ylabel='', xlabel='MR [%]', title=subj_nr)\n",
    "    ax.set_xlim(-0.02,0.08)\n",
    "    ax.set_xticks(np.arange(-0.02,0.08, 0.02))\n",
    "    ax.invert_yaxis()\n",
    "fig.tight_layout()\n",
    "plt.savefig('plots/Fig2A.eps') "
   ]
  }
 ],
 "metadata": {
  "kernelspec": {
   "display_name": "Python 3",
   "language": "python",
   "name": "python3"
  },
  "language_info": {
   "codemirror_mode": {
    "name": "ipython",
    "version": 3
   },
   "file_extension": ".py",
   "mimetype": "text/x-python",
   "name": "python",
   "nbconvert_exporter": "python",
   "pygments_lexer": "ipython3",
   "version": "3.6.8"
  },
  "toc": {
   "base_numbering": 1,
   "nav_menu": {},
   "number_sections": true,
   "sideBar": true,
   "skip_h1_title": false,
   "title_cell": "Table of Contents",
   "title_sidebar": "Contents",
   "toc_cell": false,
   "toc_position": {},
   "toc_section_display": true,
   "toc_window_display": false
  }
 },
 "nbformat": 4,
 "nbformat_minor": 2
}
